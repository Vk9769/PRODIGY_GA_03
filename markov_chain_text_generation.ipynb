{
  "nbformat": 4,
  "nbformat_minor": 0,
  "metadata": {
    "colab": {
      "provenance": [],
      "authorship_tag": "ABX9TyPllGq3jwxUEn4NAxIL54Yh",
      "include_colab_link": true
    },
    "kernelspec": {
      "name": "python3",
      "display_name": "Python 3"
    },
    "language_info": {
      "name": "python"
    }
  },
  "cells": [
    {
      "cell_type": "markdown",
      "metadata": {
        "id": "view-in-github",
        "colab_type": "text"
      },
      "source": [
        "<a href=\"https://colab.research.google.com/github/Vk9769/PRODIGY_GA_03/blob/main/markov_chain_text_generation.ipynb\" target=\"_parent\"><img src=\"https://colab.research.google.com/assets/colab-badge.svg\" alt=\"Open In Colab\"/></a>"
      ]
    },
    {
      "cell_type": "code",
      "source": [
        "import random\n",
        "from collections import defaultdict, Counter\n",
        "\n",
        "# Step 1: Data Preparation\n",
        "def get_corpus():\n",
        "    return \"\"\"\n",
        "    Alice was beginning to get very tired of sitting by her sister on the bank, and of having nothing to do: once or twice she had peeped into the book her sister was reading, but it had no pictures or conversations in it, 'and what is the use of a book,' thought Alice 'without pictures or conversation?'\n",
        "\n",
        "    So she was considering in her own mind (as well as she could, for the hot day made her feel very sleepy and stupid), whether the pleasure of making a daisy-chain would be worth the trouble of getting up and picking the daisies, when suddenly a White Rabbit with pink eyes ran close by her.\n",
        "\n",
        "    There was nothing very remarkable in that, nor did Alice think it so very much out of the way to hear the Rabbit say to itself, 'Oh dear! Oh dear! I shall be late!' (when she thought it over afterwards, it occurred to her that she ought to have wondered at this, but at the time it all seemed quite natural); but when the Rabbit actually took a Watch out of its waistcoat-pocket, and looked at it, and then hurried on, Alice started to her feet, for it flashed across her mind that she had never before seen a rabbit with either a waistcoat-pocket, or a watch to take out of it, and burning with curiosity, she ran across the field after it, and fortunately was just in time to see it pop down a large rabbit-hole under the hedge.\n",
        "    \"\"\"\n",
        "\n",
        "corpus = get_corpus()\n",
        "\n",
        "# Step 2: Building the Markov Chain\n",
        "def build_markov_chain(corpus, k=2):\n",
        "    words = corpus.split()\n",
        "    markov_chain = defaultdict(Counter)\n",
        "    for i in range(len(words) - k):\n",
        "        kgram = tuple(words[i:i+k])\n",
        "        next_word = words[i+k]\n",
        "        markov_chain[kgram][next_word] += 1\n",
        "    return markov_chain\n",
        "\n",
        "k = 2  # Using a higher-order Markov chain (based on words)\n",
        "markov_chain = build_markov_chain(corpus, k)\n",
        "\n",
        "# Step 3: Generating Text\n",
        "def generate_text(markov_chain, length=50, k=2):\n",
        "    start = random.choice(list(markov_chain.keys()))\n",
        "    result = list(start)\n",
        "    current_kgram = start\n",
        "    for _ in range(length - k):\n",
        "        next_words = list(markov_chain[current_kgram].keys())\n",
        "        if not next_words:\n",
        "            break\n",
        "        next_word = random.choices(\n",
        "            next_words,\n",
        "            list(markov_chain[current_kgram].values())\n",
        "        )[0]\n",
        "        result.append(next_word)\n",
        "        current_kgram = tuple(result[-k:])\n",
        "    return ' '.join(result)\n",
        "\n",
        "generated_text = generate_text(markov_chain, length=50, k=k)\n",
        "print(generated_text)\n"
      ],
      "metadata": {
        "colab": {
          "base_uri": "https://localhost:8080/"
        },
        "id": "wYfzWF6VEr71",
        "outputId": "19f9b2c9-43df-4fdf-8419-b3d7a51a7e6e"
      },
      "execution_count": 4,
      "outputs": [
        {
          "output_type": "stream",
          "name": "stdout",
          "text": [
            "before seen a rabbit with either a waistcoat-pocket, or a watch to take out of its waistcoat-pocket, and looked at it, and fortunately was just in time to see it pop down a large rabbit-hole under the hedge.\n"
          ]
        }
      ]
    }
  ]
}